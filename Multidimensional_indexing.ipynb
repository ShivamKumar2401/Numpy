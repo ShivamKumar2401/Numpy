{
 "cells": [
  {
   "cell_type": "markdown",
   "id": "552f61ba-dea1-444e-b146-9b22009c0ec7",
   "metadata": {},
   "source": [
    "# Multidimensional indexing & Axis"
   ]
  },
  {
   "cell_type": "code",
   "execution_count": 1,
   "id": "461883b2-5981-4d5f-b9bf-e5f7b2fbdab0",
   "metadata": {},
   "outputs": [],
   "source": [
    "import numpy as np"
   ]
  },
  {
   "cell_type": "code",
   "execution_count": 2,
   "id": "10efbd24-f6dc-4192-bdfa-8075541c62a7",
   "metadata": {},
   "outputs": [],
   "source": [
    "arr=np.array([\n",
    "    [1,2,3],\n",
    "    [4,5,6],\n",
    "    [7,8,9]\n",
    "])"
   ]
  },
  {
   "cell_type": "code",
   "execution_count": 3,
   "id": "bfa3f772-1f0b-49c9-a852-3a9a93b34cba",
   "metadata": {},
   "outputs": [
    {
     "data": {
      "text/plain": [
       "array([ 6, 15, 24])"
      ]
     },
     "execution_count": 3,
     "metadata": {},
     "output_type": "execute_result"
    }
   ],
   "source": [
    "np.sum(arr,axis=1)"
   ]
  },
  {
   "cell_type": "code",
   "execution_count": 6,
   "id": "399c78a5-8190-48ab-a5dd-f108fc9af85b",
   "metadata": {},
   "outputs": [
    {
     "data": {
      "text/plain": [
       "array([12, 15, 18])"
      ]
     },
     "execution_count": 6,
     "metadata": {},
     "output_type": "execute_result"
    }
   ],
   "source": [
    "np.sum(arr,axis=0)"
   ]
  },
  {
   "cell_type": "code",
   "execution_count": 7,
   "id": "cb11078b-2317-4a5b-bf50-8cb2d71b6173",
   "metadata": {},
   "outputs": [
    {
     "data": {
      "text/plain": [
       "2"
      ]
     },
     "execution_count": 7,
     "metadata": {},
     "output_type": "execute_result"
    }
   ],
   "source": [
    "arr[0][1]"
   ]
  },
  {
   "cell_type": "code",
   "execution_count": 8,
   "id": "15b85d88-2360-444f-9a94-d7021db114ff",
   "metadata": {},
   "outputs": [
    {
     "data": {
      "text/plain": [
       "array([[2, 3],\n",
       "       [5, 6]])"
      ]
     },
     "execution_count": 8,
     "metadata": {},
     "output_type": "execute_result"
    }
   ],
   "source": [
    "arr[0:2,1:3]"
   ]
  },
  {
   "cell_type": "code",
   "execution_count": 9,
   "id": "bf9c9ded-a90e-4d3b-941d-23ed0d28ae22",
   "metadata": {},
   "outputs": [
    {
     "data": {
      "text/plain": [
       "array([[[ 1,  2,  3],\n",
       "        [ 4,  5,  6]],\n",
       "\n",
       "       [[ 7,  8,  9],\n",
       "        [10, 11, 12]]])"
      ]
     },
     "execution_count": 9,
     "metadata": {},
     "output_type": "execute_result"
    }
   ],
   "source": [
    "arr3D=np.array([\n",
    "    [\n",
    "        [1,2,3],\n",
    "        [4,5,6]\n",
    "    ],\n",
    "    [\n",
    "        [7,8,9],\n",
    "        [10,11,12]\n",
    "    ]\n",
    "])\n",
    "arr3D"
   ]
  },
  {
   "cell_type": "code",
   "execution_count": 16,
   "id": "67493fe7-ed27-4b5d-97c6-329a1c1c47ac",
   "metadata": {},
   "outputs": [
    {
     "name": "stdout",
     "output_type": "stream",
     "text": [
      "[[1 2 3]\n",
      " [7 8 9]]\n"
     ]
    }
   ],
   "source": [
    "print(arr3D[:,0,:])"
   ]
  },
  {
   "cell_type": "code",
   "execution_count": 17,
   "id": "96c8795c-b350-40fa-b283-d992ce4fca81",
   "metadata": {},
   "outputs": [],
   "source": [
    "arr3D[:,0,:]=0"
   ]
  },
  {
   "cell_type": "code",
   "execution_count": 18,
   "id": "2e4f17b4-2eee-4826-b8c7-872be19314a0",
   "metadata": {},
   "outputs": [
    {
     "name": "stdout",
     "output_type": "stream",
     "text": [
      "[[[ 0  0  0]\n",
      "  [ 4  5  6]]\n",
      "\n",
      " [[ 0  0  0]\n",
      "  [10 11 12]]]\n"
     ]
    }
   ],
   "source": [
    "print(arr3D)"
   ]
  },
  {
   "cell_type": "code",
   "execution_count": null,
   "id": "e138e297-3506-4b1d-8dd7-a58f67d8372d",
   "metadata": {},
   "outputs": [],
   "source": []
  }
 ],
 "metadata": {
  "kernelspec": {
   "display_name": "Python [conda env:base] *",
   "language": "python",
   "name": "conda-base-py"
  },
  "language_info": {
   "codemirror_mode": {
    "name": "ipython",
    "version": 3
   },
   "file_extension": ".py",
   "mimetype": "text/x-python",
   "name": "python",
   "nbconvert_exporter": "python",
   "pygments_lexer": "ipython3",
   "version": "3.12.7"
  }
 },
 "nbformat": 4,
 "nbformat_minor": 5
}

{
 "cells": [
  {
   "cell_type": "markdown",
   "id": "0feb3bd6-d2c9-43c6-8fd3-4bbfa2d93312",
   "metadata": {},
   "source": [
    "# Broadcasting"
   ]
  },
  {
   "cell_type": "code",
   "execution_count": 1,
   "id": "acc2e446-ecd0-4cc2-8c69-2642d1877a6d",
   "metadata": {},
   "outputs": [],
   "source": [
    "import numpy as np"
   ]
  },
  {
   "cell_type": "code",
   "execution_count": 2,
   "id": "07d3aab0-e164-4a83-b56d-be15fad81a52",
   "metadata": {},
   "outputs": [
    {
     "data": {
      "text/plain": [
       "array([ 1,  4,  9, 16, 25])"
      ]
     },
     "execution_count": 2,
     "metadata": {},
     "output_type": "execute_result"
    }
   ],
   "source": [
    "arr = np.array([1,2,3,4,5])\n",
    "result=arr**2\n",
    "result"
   ]
  },
  {
   "cell_type": "code",
   "execution_count": 3,
   "id": "777aaad9-b195-4cd0-8dda-1b04eca1aa72",
   "metadata": {},
   "outputs": [
    {
     "data": {
      "text/plain": [
       "array([11, 14, 19, 26, 35])"
      ]
     },
     "execution_count": 3,
     "metadata": {},
     "output_type": "execute_result"
    }
   ],
   "source": [
    "result+10"
   ]
  },
  {
   "cell_type": "code",
   "execution_count": 4,
   "id": "1334076c-8bbf-4a79-b11d-670bfef92c8f",
   "metadata": {},
   "outputs": [
    {
     "data": {
      "text/plain": [
       "array([[ 23,  45,  67, 100, 122],\n",
       "       [ 12,  24,  38,  50,  62]])"
      ]
     },
     "execution_count": 4,
     "metadata": {},
     "output_type": "execute_result"
    }
   ],
   "source": [
    "arr1=np.array([[12,23,34,56,67],[1,2,5,6,7]])\n",
    "arr2=np.array([11,22,33,44,55])\n",
    "result=arr1+arr2\n",
    "result"
   ]
  },
  {
   "cell_type": "markdown",
   "id": "7a6e11f5-7436-4e73-b894-c566ae76b550",
   "metadata": {},
   "source": [
    "# Built in mathematical function in numpy"
   ]
  },
  {
   "cell_type": "code",
   "execution_count": 5,
   "id": "00224db9-ba18-4aa2-b4ff-0640946c5c7e",
   "metadata": {},
   "outputs": [
    {
     "data": {
      "text/plain": [
       "array([10, 20, 30, 40, 50])"
      ]
     },
     "execution_count": 5,
     "metadata": {},
     "output_type": "execute_result"
    }
   ],
   "source": [
    "arrr=np.array([10,20,30,40,50])\n",
    "arrr"
   ]
  },
  {
   "cell_type": "code",
   "execution_count": 6,
   "id": "c4bb7ff0-d931-49aa-b2e3-bd1c492fb4d5",
   "metadata": {},
   "outputs": [
    {
     "data": {
      "text/plain": [
       "30.0"
      ]
     },
     "execution_count": 6,
     "metadata": {},
     "output_type": "execute_result"
    }
   ],
   "source": [
    "np.mean(arrr)"
   ]
  },
  {
   "cell_type": "code",
   "execution_count": 7,
   "id": "b687dc2a-cd82-413a-b259-47c42f9f3928",
   "metadata": {},
   "outputs": [
    {
     "data": {
      "text/plain": [
       "14.142135623730951"
      ]
     },
     "execution_count": 7,
     "metadata": {},
     "output_type": "execute_result"
    }
   ],
   "source": [
    "np.std(arrr)"
   ]
  },
  {
   "cell_type": "code",
   "execution_count": 8,
   "id": "346909d3-2f14-4568-b55e-5ac7939d37a5",
   "metadata": {},
   "outputs": [
    {
     "data": {
      "text/plain": [
       "200.0"
      ]
     },
     "execution_count": 8,
     "metadata": {},
     "output_type": "execute_result"
    }
   ],
   "source": [
    "np.var(arrr)"
   ]
  },
  {
   "cell_type": "code",
   "execution_count": 9,
   "id": "8b77d65b-0852-41d0-ad8e-74a5f9227967",
   "metadata": {},
   "outputs": [
    {
     "data": {
      "text/plain": [
       "10"
      ]
     },
     "execution_count": 9,
     "metadata": {},
     "output_type": "execute_result"
    }
   ],
   "source": [
    "np.min(arrr)"
   ]
  },
  {
   "cell_type": "code",
   "execution_count": 10,
   "id": "deea5a73-fbbb-4219-8baf-52c497b9e244",
   "metadata": {},
   "outputs": [
    {
     "data": {
      "text/plain": [
       "50"
      ]
     },
     "execution_count": 10,
     "metadata": {},
     "output_type": "execute_result"
    }
   ],
   "source": [
    "np.max(arrr)"
   ]
  },
  {
   "cell_type": "code",
   "execution_count": 11,
   "id": "8edda81f-3a45-416b-90f0-f2a5d3eed57a",
   "metadata": {},
   "outputs": [
    {
     "data": {
      "text/plain": [
       "150"
      ]
     },
     "execution_count": 11,
     "metadata": {},
     "output_type": "execute_result"
    }
   ],
   "source": [
    "np.sum(arrr)"
   ]
  },
  {
   "cell_type": "code",
   "execution_count": 12,
   "id": "b706bf91-5563-402b-845f-ca1823597689",
   "metadata": {},
   "outputs": [
    {
     "data": {
      "text/plain": [
       "12000000"
      ]
     },
     "execution_count": 12,
     "metadata": {},
     "output_type": "execute_result"
    }
   ],
   "source": [
    "np.prod(arrr)"
   ]
  },
  {
   "cell_type": "code",
   "execution_count": 13,
   "id": "cceb6845-fe01-43d6-b885-1b61c73216be",
   "metadata": {},
   "outputs": [
    {
     "data": {
      "text/plain": [
       "30.0"
      ]
     },
     "execution_count": 13,
     "metadata": {},
     "output_type": "execute_result"
    }
   ],
   "source": [
    "np.median(arrr)"
   ]
  },
  {
   "cell_type": "code",
   "execution_count": 14,
   "id": "666c81cc-06ea-4d53-a67b-74c0486f5322",
   "metadata": {},
   "outputs": [
    {
     "data": {
      "text/plain": [
       "30.0"
      ]
     },
     "execution_count": 14,
     "metadata": {},
     "output_type": "execute_result"
    }
   ],
   "source": [
    "np.percentile(arrr,50)"
   ]
  },
  {
   "cell_type": "code",
   "execution_count": 15,
   "id": "3926c9b4-ee27-444d-9d89-1f63210fdbaa",
   "metadata": {},
   "outputs": [
    {
     "data": {
      "text/plain": [
       "0"
      ]
     },
     "execution_count": 15,
     "metadata": {},
     "output_type": "execute_result"
    }
   ],
   "source": [
    "np.argmin(arrr)"
   ]
  },
  {
   "cell_type": "code",
   "execution_count": 16,
   "id": "de006ba4-9331-4da1-b6b2-02733896a491",
   "metadata": {},
   "outputs": [
    {
     "data": {
      "text/plain": [
       "4"
      ]
     },
     "execution_count": 16,
     "metadata": {},
     "output_type": "execute_result"
    }
   ],
   "source": [
    "np.argmax(arrr)"
   ]
  },
  {
   "cell_type": "code",
   "execution_count": 17,
   "id": "a2137a3d-8255-4992-ab61-520a600da397",
   "metadata": {},
   "outputs": [
    {
     "data": {
      "text/plain": [
       "array([10, 20, 30, 40, 50])"
      ]
     },
     "execution_count": 17,
     "metadata": {},
     "output_type": "execute_result"
    }
   ],
   "source": [
    "np.unique(arrr)"
   ]
  },
  {
   "cell_type": "code",
   "execution_count": 18,
   "id": "5aa0232a-3a77-4590-9f86-bbb6ba13df47",
   "metadata": {},
   "outputs": [],
   "source": [
    "arrr1=np.array([60,70,80,90,100])"
   ]
  },
  {
   "cell_type": "code",
   "execution_count": 19,
   "id": "3e6cb39c-1b65-4533-9da3-48466bf94cd8",
   "metadata": {},
   "outputs": [
    {
     "data": {
      "text/plain": [
       "array([[1., 1.],\n",
       "       [1., 1.]])"
      ]
     },
     "execution_count": 19,
     "metadata": {},
     "output_type": "execute_result"
    }
   ],
   "source": [
    "np.corrcoef(arrr,arrr1)"
   ]
  },
  {
   "cell_type": "code",
   "execution_count": 20,
   "id": "cff9394e-e1ff-4aa6-ba0a-17f490f420cd",
   "metadata": {},
   "outputs": [
    {
     "data": {
      "text/plain": [
       "array([10, 10, 10, 10])"
      ]
     },
     "execution_count": 20,
     "metadata": {},
     "output_type": "execute_result"
    }
   ],
   "source": [
    "np.diff(arrr)"
   ]
  },
  {
   "cell_type": "code",
   "execution_count": 21,
   "id": "51a3a6ad-57db-4be9-826d-80e287f39947",
   "metadata": {},
   "outputs": [
    {
     "data": {
      "text/plain": [
       "array([ 10,  30,  60, 100, 150])"
      ]
     },
     "execution_count": 21,
     "metadata": {},
     "output_type": "execute_result"
    }
   ],
   "source": [
    "np.cumsum(arrr)"
   ]
  },
  {
   "cell_type": "code",
   "execution_count": 22,
   "id": "84f6fdda-d09a-4b1c-b633-aec167d0f149",
   "metadata": {},
   "outputs": [
    {
     "data": {
      "text/plain": [
       "array([ 0. ,  2.5,  5. ,  7.5, 10. ])"
      ]
     },
     "execution_count": 22,
     "metadata": {},
     "output_type": "execute_result"
    }
   ],
   "source": [
    "np.linspace(0,10,5)"
   ]
  },
  {
   "cell_type": "code",
   "execution_count": 23,
   "id": "5ec185e9-732e-4651-9a20-a0eaa6bc5970",
   "metadata": {},
   "outputs": [
    {
     "data": {
      "text/plain": [
       "array([2.30258509, 2.99573227, 3.40119738, 3.68887945, 3.91202301])"
      ]
     },
     "execution_count": 23,
     "metadata": {},
     "output_type": "execute_result"
    }
   ],
   "source": [
    "np.log(arrr)"
   ]
  },
  {
   "cell_type": "code",
   "execution_count": 24,
   "id": "1570a183-b917-42ea-b109-650278100169",
   "metadata": {},
   "outputs": [
    {
     "data": {
      "text/plain": [
       "array([2.20264658e+04, 4.85165195e+08, 1.06864746e+13, 2.35385267e+17,\n",
       "       5.18470553e+21])"
      ]
     },
     "execution_count": 24,
     "metadata": {},
     "output_type": "execute_result"
    }
   ],
   "source": [
    "np.exp(arrr)"
   ]
  }
 ],
 "metadata": {
  "kernelspec": {
   "display_name": "Python [conda env:base] *",
   "language": "python",
   "name": "conda-base-py"
  },
  "language_info": {
   "codemirror_mode": {
    "name": "ipython",
    "version": 3
   },
   "file_extension": ".py",
   "mimetype": "text/x-python",
   "name": "python",
   "nbconvert_exporter": "python",
   "pygments_lexer": "ipython3",
   "version": "3.12.7"
  }
 },
 "nbformat": 4,
 "nbformat_minor": 5
}
